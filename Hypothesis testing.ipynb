{
 "cells": [
  {
   "cell_type": "code",
   "execution_count": 111,
   "metadata": {},
   "outputs": [],
   "source": [
    "import pandas as pd\n",
    "import numpy as np\n",
    "import seaborn as sns\n",
    "\n",
    "from scipy.stats import ttest_ind\n",
    "import scipy.stats as stats\n",
    "from scipy.stats import mannwhitneyu\n",
    "from scipy.stats import norm\n",
    "from tqdm.auto import tqdm\n",
    "from scipy.stats import chi2_contingency, chi2 \n",
    "\n",
    "import matplotlib.pyplot as plt\n",
    "import matplotlib.ticker as mtick"
   ]
  },
  {
   "cell_type": "code",
   "execution_count": 105,
   "metadata": {},
   "outputs": [],
   "source": [
    "df  = pd.read_csv('/mnt/HC_Volume_18315164/home-jupyter/jupyter-e-chernolihova/Untitled Folder/Проект_1_Задание_2.csv', sep=';')"
   ]
  },
  {
   "cell_type": "code",
   "execution_count": 106,
   "metadata": {},
   "outputs": [
    {
     "data": {
      "text/html": [
       "<div>\n",
       "<style scoped>\n",
       "    .dataframe tbody tr th:only-of-type {\n",
       "        vertical-align: middle;\n",
       "    }\n",
       "\n",
       "    .dataframe tbody tr th {\n",
       "        vertical-align: top;\n",
       "    }\n",
       "\n",
       "    .dataframe thead th {\n",
       "        text-align: right;\n",
       "    }\n",
       "</style>\n",
       "<table border=\"1\" class=\"dataframe\">\n",
       "  <thead>\n",
       "    <tr style=\"text-align: right;\">\n",
       "      <th></th>\n",
       "      <th>user_id</th>\n",
       "      <th>revenue</th>\n",
       "      <th>testgroup</th>\n",
       "    </tr>\n",
       "  </thead>\n",
       "  <tbody>\n",
       "    <tr>\n",
       "      <th>0</th>\n",
       "      <td>1</td>\n",
       "      <td>0</td>\n",
       "      <td>b</td>\n",
       "    </tr>\n",
       "    <tr>\n",
       "      <th>1</th>\n",
       "      <td>2</td>\n",
       "      <td>0</td>\n",
       "      <td>a</td>\n",
       "    </tr>\n",
       "    <tr>\n",
       "      <th>2</th>\n",
       "      <td>3</td>\n",
       "      <td>0</td>\n",
       "      <td>a</td>\n",
       "    </tr>\n",
       "    <tr>\n",
       "      <th>3</th>\n",
       "      <td>4</td>\n",
       "      <td>0</td>\n",
       "      <td>b</td>\n",
       "    </tr>\n",
       "    <tr>\n",
       "      <th>4</th>\n",
       "      <td>5</td>\n",
       "      <td>0</td>\n",
       "      <td>b</td>\n",
       "    </tr>\n",
       "  </tbody>\n",
       "</table>\n",
       "</div>"
      ],
      "text/plain": [
       "   user_id  revenue testgroup\n",
       "0        1        0         b\n",
       "1        2        0         a\n",
       "2        3        0         a\n",
       "3        4        0         b\n",
       "4        5        0         b"
      ]
     },
     "execution_count": 106,
     "metadata": {},
     "output_type": "execute_result"
    }
   ],
   "source": [
    "df.head()"
   ]
  },
  {
   "cell_type": "code",
   "execution_count": 4,
   "metadata": {},
   "outputs": [
    {
     "data": {
      "text/plain": [
       "user_id       int64\n",
       "revenue       int64\n",
       "testgroup    object\n",
       "dtype: object"
      ]
     },
     "execution_count": 4,
     "metadata": {},
     "output_type": "execute_result"
    }
   ],
   "source": [
    "# Проверим типы переменных \n",
    "df.dtypes"
   ]
  },
  {
   "cell_type": "code",
   "execution_count": 5,
   "metadata": {},
   "outputs": [
    {
     "name": "stdout",
     "output_type": "stream",
     "text": [
      "<class 'pandas.core.frame.DataFrame'>\n",
      "RangeIndex: 404770 entries, 0 to 404769\n",
      "Data columns (total 3 columns):\n",
      " #   Column     Non-Null Count   Dtype \n",
      "---  ------     --------------   ----- \n",
      " 0   user_id    404770 non-null  int64 \n",
      " 1   revenue    404770 non-null  int64 \n",
      " 2   testgroup  404770 non-null  object\n",
      "dtypes: int64(2), object(1)\n",
      "memory usage: 9.3+ MB\n"
     ]
    }
   ],
   "source": [
    "# Проверим, есть ли пропущенные значения и дубли\n",
    "df.info()"
   ]
  },
  {
   "cell_type": "code",
   "execution_count": 9,
   "metadata": {},
   "outputs": [
    {
     "data": {
      "text/plain": [
       "user_id      0\n",
       "revenue      0\n",
       "testgroup    0\n",
       "dtype: int64"
      ]
     },
     "execution_count": 9,
     "metadata": {},
     "output_type": "execute_result"
    }
   ],
   "source": [
    "df.isna().sum()"
   ]
  },
  {
   "cell_type": "code",
   "execution_count": 10,
   "metadata": {},
   "outputs": [
    {
     "data": {
      "text/plain": [
       "0"
      ]
     },
     "execution_count": 10,
     "metadata": {},
     "output_type": "execute_result"
    }
   ],
   "source": [
    "df.duplicated().sum()"
   ]
  },
  {
   "cell_type": "code",
   "execution_count": 7,
   "metadata": {},
   "outputs": [
    {
     "data": {
      "text/plain": [
       "(404770, 3)"
      ]
     },
     "execution_count": 7,
     "metadata": {},
     "output_type": "execute_result"
    }
   ],
   "source": [
    "# Узнаем кол-во строк и стобцов в датафрейме\n",
    "df.shape"
   ]
  },
  {
   "cell_type": "code",
   "execution_count": 8,
   "metadata": {},
   "outputs": [
    {
     "data": {
      "text/plain": [
       "404770"
      ]
     },
     "execution_count": 8,
     "metadata": {},
     "output_type": "execute_result"
    }
   ],
   "source": [
    "# Проверим кол-во уникальных значений юзеров\n",
    "df.user_id.nunique()"
   ]
  },
  {
   "cell_type": "code",
   "execution_count": 11,
   "metadata": {},
   "outputs": [
    {
     "data": {
      "text/html": [
       "<div>\n",
       "<style scoped>\n",
       "    .dataframe tbody tr th:only-of-type {\n",
       "        vertical-align: middle;\n",
       "    }\n",
       "\n",
       "    .dataframe tbody tr th {\n",
       "        vertical-align: top;\n",
       "    }\n",
       "\n",
       "    .dataframe thead th {\n",
       "        text-align: right;\n",
       "    }\n",
       "</style>\n",
       "<table border=\"1\" class=\"dataframe\">\n",
       "  <thead>\n",
       "    <tr style=\"text-align: right;\">\n",
       "      <th></th>\n",
       "      <th>testgroup</th>\n",
       "      <th>user_id</th>\n",
       "    </tr>\n",
       "  </thead>\n",
       "  <tbody>\n",
       "    <tr>\n",
       "      <th>0</th>\n",
       "      <td>a</td>\n",
       "      <td>202103</td>\n",
       "    </tr>\n",
       "    <tr>\n",
       "      <th>1</th>\n",
       "      <td>b</td>\n",
       "      <td>202667</td>\n",
       "    </tr>\n",
       "  </tbody>\n",
       "</table>\n",
       "</div>"
      ],
      "text/plain": [
       "  testgroup  user_id\n",
       "0         a   202103\n",
       "1         b   202667"
      ]
     },
     "execution_count": 11,
     "metadata": {},
     "output_type": "execute_result"
    }
   ],
   "source": [
    "# Проверим, совпадают ли данные из задачи с данными в дф.ПО условию: в контрольной группе 1928 игроков из 202103 оказались платящими, а в тестовой – 1805 из 202667.\n",
    "\n",
    "df.groupby('testgroup', as_index=False).agg({'user_id': 'nunique'})\n",
    "\n",
    "# Всё верно"
   ]
  },
  {
   "cell_type": "code",
   "execution_count": 14,
   "metadata": {},
   "outputs": [
    {
     "data": {
      "text/html": [
       "<div>\n",
       "<style scoped>\n",
       "    .dataframe tbody tr th:only-of-type {\n",
       "        vertical-align: middle;\n",
       "    }\n",
       "\n",
       "    .dataframe tbody tr th {\n",
       "        vertical-align: top;\n",
       "    }\n",
       "\n",
       "    .dataframe thead th {\n",
       "        text-align: right;\n",
       "    }\n",
       "</style>\n",
       "<table border=\"1\" class=\"dataframe\">\n",
       "  <thead>\n",
       "    <tr style=\"text-align: right;\">\n",
       "      <th></th>\n",
       "      <th>testgroup</th>\n",
       "      <th>user_id</th>\n",
       "    </tr>\n",
       "  </thead>\n",
       "  <tbody>\n",
       "    <tr>\n",
       "      <th>0</th>\n",
       "      <td>a</td>\n",
       "      <td>1928</td>\n",
       "    </tr>\n",
       "    <tr>\n",
       "      <th>1</th>\n",
       "      <td>b</td>\n",
       "      <td>1805</td>\n",
       "    </tr>\n",
       "  </tbody>\n",
       "</table>\n",
       "</div>"
      ],
      "text/plain": [
       "  testgroup  user_id\n",
       "0         a     1928\n",
       "1         b     1805"
      ]
     },
     "execution_count": 14,
     "metadata": {},
     "output_type": "execute_result"
    }
   ],
   "source": [
    "# Проверим, сколько платящих пользователей в каждой из групп\n",
    "df.query('revenue>0').groupby('testgroup', as_index=False).agg({'user_id': 'count'})\n",
    "\n",
    "# С условием совпало "
   ]
  },
  {
   "cell_type": "code",
   "execution_count": 72,
   "metadata": {},
   "outputs": [
    {
     "name": "stdout",
     "output_type": "stream",
     "text": [
      "Процент пользователей совершивших покупку в контрольной группе 0.95%\n",
      "Процент пользователей совершивших покупку в тестовой группе 0.89%\n"
     ]
    }
   ],
   "source": [
    "# Проверим, сколько платящих пользователей в каждой из групп в %\n",
    "a = 100/202103*1928\n",
    "b = 100/202667*1805\n",
    "    \n",
    "print('Процент пользователей совершивших покупку в контрольной группе {:.2f}%'.format(a))\n",
    "print('Процент пользователей совершивших покупку в тестовой группе {:.2f}%'.format(b))"
   ]
  },
  {
   "cell_type": "markdown",
   "metadata": {},
   "source": [
    "По полученным данным и по условию задания можно сделать вывод, что данные в группах распределены ненормально, так как в контрольной группе только 1928 юзеров из 202103 платящие, а в тестовой – только 1805 из 202667, следовательно, revenue = 0 в большей части контрольной и тестовой групп. "
   ]
  },
  {
   "cell_type": "code",
   "execution_count": 99,
   "metadata": {},
   "outputs": [
    {
     "data": {
      "text/plain": [
       "5136189"
      ]
     },
     "execution_count": 99,
     "metadata": {},
     "output_type": "execute_result"
    }
   ],
   "source": [
    "# Выручка в контрольной группе \n",
    "a_group = df.query('testgroup == \"a\" and revenue > 0')['revenue'].sum()\n",
    "a_group"
   ]
  },
  {
   "cell_type": "code",
   "execution_count": 80,
   "metadata": {},
   "outputs": [
    {
     "data": {
      "text/plain": [
       "5421603"
      ]
     },
     "execution_count": 80,
     "metadata": {},
     "output_type": "execute_result"
    }
   ],
   "source": [
    "# Выручка в тестовой группе \n",
    "b_group = df.query('testgroup == \"b\" and revenue > 0')['revenue'].sum()\n",
    "b_group\n",
    "\n",
    "# Выручка в тестовой группе больше, чем в контрольной "
   ]
  },
  {
   "cell_type": "code",
   "execution_count": 86,
   "metadata": {},
   "outputs": [
    {
     "data": {
      "text/html": [
       "<div>\n",
       "<style scoped>\n",
       "    .dataframe tbody tr th:only-of-type {\n",
       "        vertical-align: middle;\n",
       "    }\n",
       "\n",
       "    .dataframe tbody tr th {\n",
       "        vertical-align: top;\n",
       "    }\n",
       "\n",
       "    .dataframe thead th {\n",
       "        text-align: right;\n",
       "    }\n",
       "</style>\n",
       "<table border=\"1\" class=\"dataframe\">\n",
       "  <thead>\n",
       "    <tr style=\"text-align: right;\">\n",
       "      <th></th>\n",
       "      <th>mean</th>\n",
       "      <th>std</th>\n",
       "      <th>max</th>\n",
       "    </tr>\n",
       "    <tr>\n",
       "      <th>testgroup</th>\n",
       "      <th></th>\n",
       "      <th></th>\n",
       "      <th></th>\n",
       "    </tr>\n",
       "  </thead>\n",
       "  <tbody>\n",
       "    <tr>\n",
       "      <th>a</th>\n",
       "      <td>25.413720</td>\n",
       "      <td>920.768137</td>\n",
       "      <td>37433</td>\n",
       "    </tr>\n",
       "    <tr>\n",
       "      <th>b</th>\n",
       "      <td>26.751287</td>\n",
       "      <td>287.324162</td>\n",
       "      <td>4000</td>\n",
       "    </tr>\n",
       "  </tbody>\n",
       "</table>\n",
       "</div>"
      ],
      "text/plain": [
       "                mean         std    max\n",
       "testgroup                              \n",
       "a          25.413720  920.768137  37433\n",
       "b          26.751287  287.324162   4000"
      ]
     },
     "execution_count": 86,
     "metadata": {},
     "output_type": "execute_result"
    }
   ],
   "source": [
    "# Группируем данные и считаем среднее, стандартное отклонение и максимум для каждой группы\n",
    "group_stats = df.groupby(\"testgroup\")[\"revenue\"].agg([\"mean\", \"std\", \"max\"])\n",
    "group_stats"
   ]
  },
  {
   "cell_type": "code",
   "execution_count": 87,
   "metadata": {},
   "outputs": [
    {
     "data": {
      "image/png": "[encoded data removed]",
      "text/plain": [
       "<Figure size 720x432 with 1 Axes>"
      ]
     },
     "metadata": {
      "needs_background": "light"
     },
     "output_type": "display_data"
    }
   ],
   "source": [
    "# Визуализируем данные с помощью bar plot\n",
    "group_stats.plot(kind='bar', y='mean', yerr='std', capsize=5, figsize=(10, 6))\n",
    "plt.title('Revenue Statistics by Test Group')\n",
    "plt.xlabel('Test Group')\n",
    "plt.ylabel('Revenue')\n",
    "plt.xticks(rotation=0)\n",
    "plt.legend(['Mean Revenue', 'Standard Deviation'])\n",
    "plt.show()"
   ]
  },
  {
   "cell_type": "markdown",
   "metadata": {},
   "source": [
    "1. Средний доход в тестовой группе (26.75) немного выше, чем в контрольной группе (25.41).\n",
    "2. Однако стандартное отклонение в контрольной группе (920.77) значительно выше, чем в тестовой группе (287.32), что может указывать на большую вариабельность данных в контрольной группе.\n",
    "3. Максимальный доход в контрольной группе составляет 37 433, в то время как в тестовой группе он составляет 4 000. Это может указывать на наличие крупных значений дохода в контрольной группе."
   ]
  },
  {
   "cell_type": "code",
   "execution_count": 108,
   "metadata": {},
   "outputs": [
    {
     "data": {
      "image/png": "[encoded data removed]",
      "text/plain": [
       "<Figure size 864x432 with 2 Axes>"
      ]
     },
     "metadata": {
      "needs_background": "light"
     },
     "output_type": "display_data"
    }
   ],
   "source": [
    "# Разделяем данные на контрольную и тестовую группы\n",
    "revenue_control = df[df['testgroup'] == 'a']['revenue']\n",
    "revenue_test = df[df['testgroup'] == 'b']['revenue']\n",
    "\n",
    "# Строим гистограммы\n",
    "plt.figure(figsize=(12, 6))\n",
    "plt.subplot(1, 2, 1)\n",
    "plt.hist(revenue_control, bins=50, color='blue', alpha=0.7)\n",
    "plt.title('Гистограмма дохода в контрольной группе')\n",
    "\n",
    "plt.subplot(1, 2, 2)\n",
    "plt.hist(revenue_test, bins=50, color='green', alpha=0.7)\n",
    "plt.title('Гистограмма дохода в тестовой группе')\n",
    "\n",
    "plt.show()"
   ]
  },
  {
   "cell_type": "markdown",
   "metadata": {},
   "source": [
    "Возможно, что эксперимент был проведён не совсем корректно. Пользователи в разных группах имеют разные уровни оплаты, и скорее всего, разделение на группы было сделано неправильно."
   ]
  },
  {
   "cell_type": "markdown",
   "metadata": {},
   "source": [
    "Чтобы сравнить средние значения двух групп, мы можем использовать t-тест для независимых выборок. Этот тест предполагает, что данные имеют нормальное распределение, но его можно использовать и в случаях, когда это предположение не выполняется, если объемы выборки достаточно велики (как минимум 30 наблюдений в каждой группе, а у нас намного больше)."
   ]
  },
  {
   "cell_type": "code",
   "execution_count": 112,
   "metadata": {},
   "outputs": [
    {
     "name": "stdout",
     "output_type": "stream",
     "text": [
      "T-статистика: -0.6242026493616787, p-значение: 0.532494858971837\n"
     ]
    }
   ],
   "source": [
    "# Группировка данных по testgroup\n",
    "group_a = df[df['testgroup'] == 'a']['revenue'].values\n",
    "group_b = df[df['testgroup'] == 'b']['revenue'].values\n",
    "\n",
    "# Выполнение t-теста\n",
    "tstat, pvalue = ttest_ind(group_a, group_b)\n",
    "\n",
    "print(f'T-статистика: {tstat}, p-значение: {pvalue}')"
   ]
  },
  {
   "cell_type": "markdown",
   "metadata": {},
   "source": [
    "Гипотезы:\n",
    "Н0 - разичий в группах A и B нет\n",
    "Н1 - разичия в группах A и B есть\n",
    "\n",
    "1. T-статистика равна -0.6242, что означает, что средние значения между группами A и B различаются на 0.6242 стандартных отклонения. Отрицательное значение указывает на то, что среднее значение в группе A меньше, чем в группе B.\n",
    "\n",
    "2. P-значение составляет 0.5325, что означает, что вероятность получить такие или еще более экстремальные различия между группами случайно равна 53.25%. Обычно, если p-значение больше уровня значимости (обычно 0.05), то нет оснований отвергнуть нулевую гипотезу о равенстве средних значений.\n",
    "\n",
    "На основании полученного p-значения, нет достаточных доказательств для того, чтобы отвергнуть нулевую гипотезу о том, что средние значения выручки в группах A и B одинаковы."
   ]
  },
  {
   "cell_type": "code",
   "execution_count": 116,
   "metadata": {},
   "outputs": [],
   "source": [
    "# Также проверим предположение о том, что распределение ненормальное, другим способом:  \n",
    "\n",
    "control = df[df['testgroup'] == \"a\"]\n",
    "test = df[df['testgroup'] == \"b\"]"
   ]
  },
  {
   "cell_type": "code",
   "execution_count": 117,
   "metadata": {},
   "outputs": [
    {
     "data": {
      "text/plain": [
       "NormaltestResult(statistic=585152.7312728433, pvalue=0.0)"
      ]
     },
     "execution_count": 117,
     "metadata": {},
     "output_type": "execute_result"
    }
   ],
   "source": [
    "scipy.stats.normaltest(control.revenue) "
   ]
  },
  {
   "cell_type": "code",
   "execution_count": 118,
   "metadata": {},
   "outputs": [
    {
     "data": {
      "text/plain": [
       "NormaltestResult(statistic=326622.39540856465, pvalue=0.0)"
      ]
     },
     "execution_count": 118,
     "metadata": {},
     "output_type": "execute_result"
    }
   ],
   "source": [
    "scipy.stats.normaltest(test.revenue)"
   ]
  },
  {
   "cell_type": "markdown",
   "metadata": {},
   "source": [
    "На основании результатов теста на нормальность (normaltest) для групп A и B, можно сделать следующие выводы:\n",
    "\n",
    "1. Для группы A (control) значение статистики теста равно 585152.73, а p-значение равно 0.0. Это означает, что распределение данных по выручке в группе A статистически значимо отличается от нормального распределения.\n",
    "\n",
    "2. Для группы B (test) значение статистики теста равно 326622.40, а p-значение также равно 0.0. Это указывает на то, что распределение данных по выручке в группе B также статистически значимо отличается от нормального распределения.\n",
    "\n",
    "Исходя из результатов теста на нормальность, можно сделать вывод, что данные о выручке в обеих группах не имеют нормальное распределение. "
   ]
  },
  {
   "cell_type": "code",
   "execution_count": 151,
   "metadata": {},
   "outputs": [
    {
     "data": {
      "text/plain": [
       "testgroup\n",
       "a    25.413720\n",
       "b    26.751287\n",
       "dtype: float64"
      ]
     },
     "execution_count": 151,
     "metadata": {},
     "output_type": "execute_result"
    }
   ],
   "source": [
    "# Рассчитайте общую выручку для каждой группы теста:\n",
    "revenue_per_group = df.groupby('testgroup')['revenue'].sum()\n",
    "\n",
    "# Рассчитайте количество уникальных пользователей в каждой группе теста:\n",
    "users_per_group = df.groupby('testgroup')['user_id'].nunique()\n",
    "\n",
    "# Рассчитайте ARPU для каждой группы теста:\n",
    "ARPU_per_group = revenue_per_group / users_per_group\n",
    "ARPU_per_group"
   ]
  },
  {
   "cell_type": "code",
   "execution_count": 154,
   "metadata": {},
   "outputs": [
    {
     "data": {
      "image/png": "[encoded data removed]",
      "text/plain": [
       "<Figure size 432x288 with 1 Axes>"
      ]
     },
     "metadata": {
      "needs_background": "light"
     },
     "output_type": "display_data"
    }
   ],
   "source": [
    "# Создание столбчатой диаграммы для ARPU\n",
    "plt.bar(ARPU_per_group.index, ARPU_per_group.values, color='skyblue')\n",
    "plt.xlabel('Test Group')\n",
    "plt.ylabel('ARPU')\n",
    "plt.title('Average revenue per user (ARPU)')\n",
    "plt.show()"
   ]
  },
  {
   "cell_type": "markdown",
   "metadata": {},
   "source": [
    "Можно сделать следующие выводы: \n",
    " \n",
    "1. ARPU для тестовой группы (26.75) выше, чем для контрольной группы (25.41). Это может указывать на то, что пользователи из тестовой группы в среднем приносят больше дохода по сравнению с пользователями из контрольной группы. \n",
    " \n",
    "2. Разница между ARPU групп a и b несущественна. Возможно, различия в поведении пользователей не являются статистически значимыми или требуют более детального анализа."
   ]
  },
  {
   "cell_type": "code",
   "execution_count": 149,
   "metadata": {},
   "outputs": [
    {
     "data": {
      "text/plain": [
       "testgroup\n",
       "a    2663.998444\n",
       "b    3003.658172\n",
       "dtype: float64"
      ]
     },
     "execution_count": 149,
     "metadata": {},
     "output_type": "execute_result"
    }
   ],
   "source": [
    "# Отфильтруtv датафрейм, чтобы оставить только строки с ненулевой выручкой (платящих пользователей):\n",
    "paying_users_df = df[df['revenue'] > 0]\n",
    "\n",
    "# Рассчитаем общую выручку для каждой группы теста:\n",
    "revenue_per_group = paying_users_df.groupby('testgroup')['revenue'].sum()\n",
    "\n",
    "# Рассчитаем количество уникальных платящих пользователей в каждой группе теста:\n",
    "paying_users_per_group = paying_users_df.groupby('testgroup')['user_id'].nunique()\n",
    "\n",
    "# Рассчитаем ARPPU для каждой группы теста:\n",
    "ARPPU_per_group = revenue_per_group / paying_users_per_group\n",
    "\n",
    "ARPPU_per_group"
   ]
  },
  {
   "cell_type": "code",
   "execution_count": 150,
   "metadata": {},
   "outputs": [
    {
     "data": {
      "image/png": "[encoded data removed]",
      "text/plain": [
       "<Figure size 432x288 with 1 Axes>"
      ]
     },
     "metadata": {
      "needs_background": "light"
     },
     "output_type": "display_data"
    }
   ],
   "source": [
    "# Визуализируем метрику ARPPU:\n",
    "import matplotlib.pyplot as plt\n",
    "\n",
    "plt.bar(ARPPU_per_group.index, ARPPU_per_group.values, color='skyblue')\n",
    "plt.xlabel('Test Group')\n",
    "plt.ylabel('ARPPU')\n",
    "plt.title('Average revenue per paying user (ARPPU)')\n",
    "plt.xticks(df_grouped.index, ['Group A', 'Group B'])\n",
    "plt.show()"
   ]
  },
  {
   "cell_type": "markdown",
   "metadata": {},
   "source": [
    "Исходя из предоставленных данных, можно сделать следующие выводы:\n",
    "1. ARPPU (Average Revenue Per Paying User) для тестовой группы (3003.66) выше, чем для контрольной группы (2663.99). Это может указывать на то, что пользователи из тестовой группы совершают в среднем более крупные покупки по сравнению с пользователями из контрольной группы.\n",
    "2. Разница между ARPPU групп a и b несущественна. Возможно, различия в поведении пользователей не являются статистически значимыми или требуют более детального анализа."
   ]
  },
  {
   "cell_type": "markdown",
   "metadata": {},
   "source": [
    "ВЫВОДЫ:\n",
    "    \n",
    "Из проведенного анализа данных A/B теста можно сделать вывод, что хотя ARPU в тестовой группе оказался выше на 5% по сравнению с контрольной, статистически значимых различий между группами в доходности пользователей не обнаружено. \n",
    "\n",
    "Данные о выручке в обеих группах не имеют нормальное распределение, что может указывать на особенности поведения пользователей или на некорректное разделение на группы. \n",
    "\n",
    "Дополнительные тесты могут помочь понять причины этих различий, так как невозможно однозначно определить наиболее эффективный набор предложений, поскольку полученные данные выглядят некорректными из-за неравномерного распределения пользователей."
   ]
  },
  {
   "cell_type": "code",
   "execution_count": null,
   "metadata": {},
   "outputs": [],
   "source": []
  },
  {
   "cell_type": "code",
   "execution_count": null,
   "metadata": {},
   "outputs": [],
   "source": []
  }
 ],
 "metadata": {
  "kernelspec": {
   "display_name": "Python 3",
   "language": "python",
   "name": "python3"
  },
  "language_info": {
   "codemirror_mode": {
    "name": "ipython",
    "version": 3
   },
   "file_extension": ".py",
   "mimetype": "text/x-python",
   "name": "python",
   "nbconvert_exporter": "python",
   "pygments_lexer": "ipython3",
   "version": "3.7.3"
  }
 },
 "nbformat": 4,
 "nbformat_minor": 4
}
